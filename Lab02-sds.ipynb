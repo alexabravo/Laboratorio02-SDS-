{
 "cells": [
  {
   "cell_type": "markdown",
   "id": "51abacdb-2150-40a9-9204-5a13bea1b2a1",
   "metadata": {},
   "source": [
    "## Detección de Spam - Laboratorio 02\n",
    "\n",
    "Sara Zavala  18893   \n",
    "Alexa Bravo  18831  "
   ]
  },
  {
   "cell_type": "code",
   "execution_count": 1,
   "id": "a71eaa72-b526-4160-a879-18bcab550850",
   "metadata": {},
   "outputs": [],
   "source": [
    "#Librerias que se van a utilizar. \n",
    "import pandas as pd\n",
    "import numpy as np\n",
    "import  re\n",
    "\n",
    "import neattext as nt\n",
    "import unicodedata\n",
    "import nltk\n",
    "from sklearn import metrics, model_selection, tree\n",
    "from sklearn.naive_bayes import MultinomialNB\n",
    "from sklearn.feature_extraction.text import CountVectorizer\n",
    "from sklearn.feature_extraction.text import TfidfVectorizer"
   ]
  },
  {
   "cell_type": "markdown",
   "id": "ff0625b2-7ea4-44ef-8f24-f1d2b395c878",
   "metadata": {},
   "source": [
    "### Parte 1 – Ingeniería de características"
   ]
  },
  {
   "cell_type": "markdown",
   "id": "32dc2e25-dfde-4424-b3f6-44f042d67979",
   "metadata": {},
   "source": [
    "#### Exploración de datos "
   ]
  },
  {
   "cell_type": "code",
   "execution_count": 2,
   "id": "8d03e085-e02c-4176-af56-9ee147f42607",
   "metadata": {},
   "outputs": [
    {
     "data": {
      "text/html": [
       "<div>\n",
       "<style scoped>\n",
       "    .dataframe tbody tr th:only-of-type {\n",
       "        vertical-align: middle;\n",
       "    }\n",
       "\n",
       "    .dataframe tbody tr th {\n",
       "        vertical-align: top;\n",
       "    }\n",
       "\n",
       "    .dataframe thead th {\n",
       "        text-align: right;\n",
       "    }\n",
       "</style>\n",
       "<table border=\"1\" class=\"dataframe\">\n",
       "  <thead>\n",
       "    <tr style=\"text-align: right;\">\n",
       "      <th></th>\n",
       "      <th>Body</th>\n",
       "      <th>Label</th>\n",
       "    </tr>\n",
       "  </thead>\n",
       "  <tbody>\n",
       "    <tr>\n",
       "      <th>0</th>\n",
       "      <td>\\nSave up to 70% on Life Insurance.\\nWhy Spend...</td>\n",
       "      <td>1</td>\n",
       "    </tr>\n",
       "    <tr>\n",
       "      <th>1</th>\n",
       "      <td>1) Fight The Risk of Cancer!\\nhttp://www.adcli...</td>\n",
       "      <td>1</td>\n",
       "    </tr>\n",
       "    <tr>\n",
       "      <th>2</th>\n",
       "      <td>1) Fight The Risk of Cancer!\\nhttp://www.adcli...</td>\n",
       "      <td>1</td>\n",
       "    </tr>\n",
       "    <tr>\n",
       "      <th>3</th>\n",
       "      <td>##############################################...</td>\n",
       "      <td>1</td>\n",
       "    </tr>\n",
       "    <tr>\n",
       "      <th>4</th>\n",
       "      <td>I thought you might like these:\\n1) Slim Down ...</td>\n",
       "      <td>1</td>\n",
       "    </tr>\n",
       "  </tbody>\n",
       "</table>\n",
       "</div>"
      ],
      "text/plain": [
       "                                                Body  Label\n",
       "0  \\nSave up to 70% on Life Insurance.\\nWhy Spend...      1\n",
       "1  1) Fight The Risk of Cancer!\\nhttp://www.adcli...      1\n",
       "2  1) Fight The Risk of Cancer!\\nhttp://www.adcli...      1\n",
       "3  ##############################################...      1\n",
       "4  I thought you might like these:\\n1) Slim Down ...      1"
      ]
     },
     "execution_count": 2,
     "metadata": {},
     "output_type": "execute_result"
    }
   ],
   "source": [
    "#Cargamos los datos del primer dataset.\n",
    "df1 = pd.read_csv('completeSpamAssassin.csv')\n",
    "#Quitamos las columnas que no necesitamos. \n",
    "df1 = df1.drop(columns = [\"Unnamed: 0\"])\n",
    "df1.head()"
   ]
  },
  {
   "cell_type": "code",
   "execution_count": 3,
   "id": "79ec86d6-3401-4517-87e2-1c5b46604c60",
   "metadata": {},
   "outputs": [
    {
     "data": {
      "text/html": [
       "<div>\n",
       "<style scoped>\n",
       "    .dataframe tbody tr th:only-of-type {\n",
       "        vertical-align: middle;\n",
       "    }\n",
       "\n",
       "    .dataframe tbody tr th {\n",
       "        vertical-align: top;\n",
       "    }\n",
       "\n",
       "    .dataframe thead th {\n",
       "        text-align: right;\n",
       "    }\n",
       "</style>\n",
       "<table border=\"1\" class=\"dataframe\">\n",
       "  <thead>\n",
       "    <tr style=\"text-align: right;\">\n",
       "      <th></th>\n",
       "      <th>Body</th>\n",
       "      <th>Label</th>\n",
       "    </tr>\n",
       "  </thead>\n",
       "  <tbody>\n",
       "    <tr>\n",
       "      <th>0</th>\n",
       "      <td>Subject: stock promo mover : cwtd\\n * * * urge...</td>\n",
       "      <td>1</td>\n",
       "    </tr>\n",
       "    <tr>\n",
       "      <th>1</th>\n",
       "      <td>Subject: are you listed in major search engine...</td>\n",
       "      <td>1</td>\n",
       "    </tr>\n",
       "    <tr>\n",
       "      <th>2</th>\n",
       "      <td>Subject: important information thu , 30 jun 20...</td>\n",
       "      <td>1</td>\n",
       "    </tr>\n",
       "    <tr>\n",
       "      <th>3</th>\n",
       "      <td>Subject: = ? utf - 8 ? q ? bask your life with...</td>\n",
       "      <td>1</td>\n",
       "    </tr>\n",
       "    <tr>\n",
       "      <th>4</th>\n",
       "      <td>Subject: \" bidstogo \" is places to go , things...</td>\n",
       "      <td>1</td>\n",
       "    </tr>\n",
       "  </tbody>\n",
       "</table>\n",
       "</div>"
      ],
      "text/plain": [
       "                                                Body  Label\n",
       "0  Subject: stock promo mover : cwtd\\n * * * urge...      1\n",
       "1  Subject: are you listed in major search engine...      1\n",
       "2  Subject: important information thu , 30 jun 20...      1\n",
       "3  Subject: = ? utf - 8 ? q ? bask your life with...      1\n",
       "4  Subject: \" bidstogo \" is places to go , things...      1"
      ]
     },
     "execution_count": 3,
     "metadata": {},
     "output_type": "execute_result"
    }
   ],
   "source": [
    "#Cargamos los datos del segundo dataset.\n",
    "df2 = pd.read_csv('enronSpamSubset.csv')\n",
    "#Quitamos las columnas que no necesitamos. \n",
    "df2 = df2.drop(columns = [\"Unnamed: 0\", \"Unnamed: 0.1\"])\n",
    "df2.head()"
   ]
  },
  {
   "cell_type": "code",
   "execution_count": 4,
   "id": "d691f500-558d-485c-a855-67d21c77422c",
   "metadata": {},
   "outputs": [
    {
     "data": {
      "text/html": [
       "<div>\n",
       "<style scoped>\n",
       "    .dataframe tbody tr th:only-of-type {\n",
       "        vertical-align: middle;\n",
       "    }\n",
       "\n",
       "    .dataframe tbody tr th {\n",
       "        vertical-align: top;\n",
       "    }\n",
       "\n",
       "    .dataframe thead th {\n",
       "        text-align: right;\n",
       "    }\n",
       "</style>\n",
       "<table border=\"1\" class=\"dataframe\">\n",
       "  <thead>\n",
       "    <tr style=\"text-align: right;\">\n",
       "      <th></th>\n",
       "      <th>Body</th>\n",
       "      <th>Label</th>\n",
       "    </tr>\n",
       "  </thead>\n",
       "  <tbody>\n",
       "    <tr>\n",
       "      <th>0</th>\n",
       "      <td>\\nSave up to 70% on Life Insurance.\\nWhy Spend...</td>\n",
       "      <td>1</td>\n",
       "    </tr>\n",
       "    <tr>\n",
       "      <th>1</th>\n",
       "      <td>1) Fight The Risk of Cancer!\\nhttp://www.adcli...</td>\n",
       "      <td>1</td>\n",
       "    </tr>\n",
       "    <tr>\n",
       "      <th>2</th>\n",
       "      <td>1) Fight The Risk of Cancer!\\nhttp://www.adcli...</td>\n",
       "      <td>1</td>\n",
       "    </tr>\n",
       "    <tr>\n",
       "      <th>3</th>\n",
       "      <td>##############################################...</td>\n",
       "      <td>1</td>\n",
       "    </tr>\n",
       "    <tr>\n",
       "      <th>4</th>\n",
       "      <td>I thought you might like these:\\n1) Slim Down ...</td>\n",
       "      <td>1</td>\n",
       "    </tr>\n",
       "  </tbody>\n",
       "</table>\n",
       "</div>"
      ],
      "text/plain": [
       "                                                Body  Label\n",
       "0  \\nSave up to 70% on Life Insurance.\\nWhy Spend...      1\n",
       "1  1) Fight The Risk of Cancer!\\nhttp://www.adcli...      1\n",
       "2  1) Fight The Risk of Cancer!\\nhttp://www.adcli...      1\n",
       "3  ##############################################...      1\n",
       "4  I thought you might like these:\\n1) Slim Down ...      1"
      ]
     },
     "execution_count": 4,
     "metadata": {},
     "output_type": "execute_result"
    }
   ],
   "source": [
    "#Unimos los dataset. \n",
    "dfTotal = pd.concat([df1, df2])\n",
    "dfTotal.head()"
   ]
  },
  {
   "cell_type": "markdown",
   "id": "c1d938cc-9453-49bf-9829-be7a3b566b32",
   "metadata": {},
   "source": [
    "#### Preprocesamiento"
   ]
  },
  {
   "cell_type": "code",
   "execution_count": 5,
   "id": "3533c632-3b46-4d69-9088-6af36cf9393d",
   "metadata": {},
   "outputs": [],
   "source": [
    "body = dfTotal[\"Body\"]"
   ]
  },
  {
   "cell_type": "code",
   "execution_count": 6,
   "id": "490e9be4-3487-4282-96c7-fc851b2ccf13",
   "metadata": {},
   "outputs": [
    {
     "data": {
      "text/plain": [
       "0    \\nsave up to 70% on life insurance.\\nwhy spend...\n",
       "1    1) fight the risk of cancer!\\nhttp://www.adcli...\n",
       "2    1) fight the risk of cancer!\\nhttp://www.adcli...\n",
       "3    ##############################################...\n",
       "4    i thought you might like these:\\n1) slim down ...\n",
       "Name: Body, dtype: object"
      ]
     },
     "execution_count": 6,
     "metadata": {},
     "output_type": "execute_result"
    }
   ],
   "source": [
    "#Pasamos todo a minuscula. \n",
    "body = body.str.lower()\n",
    "body.head()"
   ]
  },
  {
   "cell_type": "code",
   "execution_count": 7,
   "id": "71cf882b-aa2e-46ad-bd96-7df56b6a8167",
   "metadata": {},
   "outputs": [
    {
     "data": {
      "text/plain": [
       "0    save up to 70% on life insurance.\\nwhy spend m...\n",
       "1    1) fight the risk of cancer!\\nhttp://www.adcli...\n",
       "2    1) fight the risk of cancer!\\nhttp://www.adcli...\n",
       "3    ##############################################...\n",
       "4    i thought you might like these:\\n1) slim down ...\n",
       "Name: Body, dtype: object"
      ]
     },
     "execution_count": 7,
     "metadata": {},
     "output_type": "execute_result"
    }
   ],
   "source": [
    "#Eliminamos los espacios\n",
    "body = body.str.strip()\n",
    "body.head()"
   ]
  },
  {
   "cell_type": "code",
   "execution_count": 8,
   "id": "722fd7f6-b4d7-4e38-89f2-657f0313f60a",
   "metadata": {},
   "outputs": [],
   "source": [
    "#Quitamos los acentos \n",
    "def QuitarAcentos(texto):\n",
    "    texto = unicodedata.normalize('NFKD', str(texto)).encode('ascii','ignore').decode('utf-8','ignore')\n",
    "    return texto"
   ]
  },
  {
   "cell_type": "code",
   "execution_count": 9,
   "id": "372b9a53-bfdc-4448-b287-5247cc8a8e7d",
   "metadata": {},
   "outputs": [
    {
     "data": {
      "text/plain": [
       "0    save up to 70% on life insurance.\\nwhy spend m...\n",
       "1    1) fight the risk of cancer!\\nhttp://www.adcli...\n",
       "2    1) fight the risk of cancer!\\nhttp://www.adcli...\n",
       "3    ##############################################...\n",
       "4    i thought you might like these:\\n1) slim down ...\n",
       "Name: Body, dtype: object"
      ]
     },
     "execution_count": 9,
     "metadata": {},
     "output_type": "execute_result"
    }
   ],
   "source": [
    "body = body.apply(QuitarAcentos)\n",
    "body.head()"
   ]
  },
  {
   "cell_type": "code",
   "execution_count": 10,
   "id": "5b485699-b73a-4f53-ad8b-f048367c855e",
   "metadata": {},
   "outputs": [],
   "source": [
    "#Quitamos los numeros y caracteres especiales. \n",
    "def limpiar(texto, removerDigitos = False):\n",
    "    patron = r'[^a-zA-Z0-9\\s]' if not removerDigitos else r'[^a-zA-Z\\s]'\n",
    "    texto = re.sub(patron, '', texto, re.I|re.A)\n",
    "    return texto"
   ]
  },
  {
   "cell_type": "code",
   "execution_count": 11,
   "id": "7e276fda-5f11-4f57-a074-6daa7b586c5c",
   "metadata": {},
   "outputs": [
    {
     "data": {
      "text/plain": [
       "0    save up to 70 on life insurance\\nwhy spend mor...\n",
       "1    1 fight the risk of cancer\\nhttpwwwadclickwspc...\n",
       "2    1 fight the risk of cancer\\nhttpwwwadclickwspc...\n",
       "3    \\n                                            ...\n",
       "4    i thought you might like these\\n1 slim down  g...\n",
       "Name: Body, dtype: object"
      ]
     },
     "execution_count": 11,
     "metadata": {},
     "output_type": "execute_result"
    }
   ],
   "source": [
    "body = body.apply(limpiar)\n",
    "body.head()"
   ]
  },
  {
   "cell_type": "code",
   "execution_count": 12,
   "id": "802f5d0e-aa9b-469f-af43-8f709114dbff",
   "metadata": {},
   "outputs": [],
   "source": [
    "#Quitamos las contractions.\n",
    "#import contractions\n",
    "#body = body.apply(contractions.fix)"
   ]
  },
  {
   "cell_type": "code",
   "execution_count": 13,
   "id": "5caf43ad-e226-4b09-85b7-e062a640d65e",
   "metadata": {},
   "outputs": [
    {
     "name": "stderr",
     "output_type": "stream",
     "text": [
      "[nltk_data] Downloading package stopwords to\n",
      "[nltk_data]     C:\\Users\\sarit\\AppData\\Roaming\\nltk_data...\n",
      "[nltk_data]   Package stopwords is already up-to-date!\n"
     ]
    },
    {
     "data": {
      "text/plain": [
       "True"
      ]
     },
     "execution_count": 13,
     "metadata": {},
     "output_type": "execute_result"
    }
   ],
   "source": [
    "#Stop Words\n",
    "nltk.download('stopwords')"
   ]
  },
  {
   "cell_type": "code",
   "execution_count": 14,
   "id": "68fa25a0-0d9e-4263-9001-73ddcf5546b3",
   "metadata": {},
   "outputs": [],
   "source": [
    "stop_words = nltk.corpus.stopwords.words('english')"
   ]
  },
  {
   "cell_type": "code",
   "execution_count": 15,
   "id": "ce881250-2548-45eb-b920-86da7fc9de6c",
   "metadata": {},
   "outputs": [
    {
     "data": {
      "text/html": [
       "<div>\n",
       "<style scoped>\n",
       "    .dataframe tbody tr th:only-of-type {\n",
       "        vertical-align: middle;\n",
       "    }\n",
       "\n",
       "    .dataframe tbody tr th {\n",
       "        vertical-align: top;\n",
       "    }\n",
       "\n",
       "    .dataframe thead th {\n",
       "        text-align: right;\n",
       "    }\n",
       "</style>\n",
       "<table border=\"1\" class=\"dataframe\">\n",
       "  <thead>\n",
       "    <tr style=\"text-align: right;\">\n",
       "      <th></th>\n",
       "      <th>Body</th>\n",
       "      <th>Label</th>\n",
       "    </tr>\n",
       "  </thead>\n",
       "  <tbody>\n",
       "    <tr>\n",
       "      <th>0</th>\n",
       "      <td>save up to 70 on life insurance\\nwhy spend mor...</td>\n",
       "      <td>1</td>\n",
       "    </tr>\n",
       "    <tr>\n",
       "      <th>1</th>\n",
       "      <td>1 fight the risk of cancer\\nhttpwwwadclickwspc...</td>\n",
       "      <td>1</td>\n",
       "    </tr>\n",
       "    <tr>\n",
       "      <th>2</th>\n",
       "      <td>1 fight the risk of cancer\\nhttpwwwadclickwspc...</td>\n",
       "      <td>1</td>\n",
       "    </tr>\n",
       "    <tr>\n",
       "      <th>3</th>\n",
       "      <td>\\n                                            ...</td>\n",
       "      <td>1</td>\n",
       "    </tr>\n",
       "    <tr>\n",
       "      <th>4</th>\n",
       "      <td>i thought you might like these\\n1 slim down  g...</td>\n",
       "      <td>1</td>\n",
       "    </tr>\n",
       "  </tbody>\n",
       "</table>\n",
       "</div>"
      ],
      "text/plain": [
       "                                                Body  Label\n",
       "0  save up to 70 on life insurance\\nwhy spend mor...      1\n",
       "1  1 fight the risk of cancer\\nhttpwwwadclickwspc...      1\n",
       "2  1 fight the risk of cancer\\nhttpwwwadclickwspc...      1\n",
       "3  \\n                                            ...      1\n",
       "4  i thought you might like these\\n1 slim down  g...      1"
      ]
     },
     "execution_count": 15,
     "metadata": {},
     "output_type": "execute_result"
    }
   ],
   "source": [
    "dfTotal[\"Body\"] = body\n",
    "dfTotal.head()"
   ]
  },
  {
   "cell_type": "markdown",
   "id": "dc656e55-9675-433c-b645-e517bcc44ea0",
   "metadata": {},
   "source": [
    "#### Representación de Texto"
   ]
  },
  {
   "cell_type": "code",
   "execution_count": 16,
   "id": "a214c3f5-0cf0-463e-b4a4-89e18a6b18de",
   "metadata": {},
   "outputs": [
    {
     "name": "stderr",
     "output_type": "stream",
     "text": [
      "[nltk_data] Downloading package punkt to\n",
      "[nltk_data]     C:\\Users\\sarit\\AppData\\Roaming\\nltk_data...\n",
      "[nltk_data]   Package punkt is already up-to-date!\n"
     ]
    },
    {
     "data": {
      "text/plain": [
       "True"
      ]
     },
     "execution_count": 16,
     "metadata": {},
     "output_type": "execute_result"
    }
   ],
   "source": [
    "nltk.download('punkt')"
   ]
  },
  {
   "cell_type": "code",
   "execution_count": 17,
   "id": "5c6018b6-4d3d-4c82-87bd-cb02e0b89382",
   "metadata": {},
   "outputs": [],
   "source": [
    "def normDoc(doc):\n",
    "    tokens = nltk.word_tokenize(doc)\n",
    "    filtered_tokens = [token for token in tokens if token not in stop_words]\n",
    "    doc = ' '.join(filtered_tokens)\n",
    "    return doc"
   ]
  },
  {
   "cell_type": "code",
   "execution_count": null,
   "id": "eb954be8-943c-409e-a683-40b4b48cb186",
   "metadata": {},
   "outputs": [],
   "source": [
    "dfTotal['Body'] = dfTotal['Body'].apply(normDoc)\n",
    "dfTotal.head()"
   ]
  },
  {
   "cell_type": "code",
   "execution_count": null,
   "id": "f05821a0-2a17-4d1b-b67f-8f9a8b1fd7cf",
   "metadata": {},
   "outputs": [],
   "source": [
    "#Modelo Bag of Words\n",
    "cv = CountVectorizer(min_df=0.1, max_df=0.9)\n",
    "cv_matrix = cv.fit_transform(dfTotal['Body'])\n",
    "cv_matrix = cv_matrix.toarray()\n",
    "cv_matrix"
   ]
  },
  {
   "cell_type": "code",
   "execution_count": null,
   "id": "dab58a56-eb57-4787-9b73-b77a86354d53",
   "metadata": {},
   "outputs": [],
   "source": [
    "vocabulario = cv.get_feature_names()\n",
    "cv_df = pd.DataFrame(cv_matrix, columns=vocabulario)\n",
    "cv_df.head()"
   ]
  },
  {
   "cell_type": "code",
   "execution_count": null,
   "id": "8615bce7-5a5f-49b4-96fa-82bc521a69d2",
   "metadata": {},
   "outputs": [],
   "source": [
    "#Modelo Bag of N - grams\n",
    "bv = CountVectorizer(ngram_range=(1,2), min_df=0.1, max_df=0.9)\n",
    "bv_matrix = bv.fit_transform(dfTotal['Body'])\n",
    "bv_matrix = bv_matrix.toarray()\n",
    "vocabulario = bv.get_feature_names()\n",
    "pd.DataFrame(bv_matrix, columns=vocabulario)"
   ]
  },
  {
   "cell_type": "code",
   "execution_count": null,
   "id": "f037704c-4456-4b83-bfab-822c3d935cb9",
   "metadata": {},
   "outputs": [],
   "source": [
    "tv = TfidfVectorizer(min_df=0.1, max_df=0.9, use_idf=True)\n",
    "tv_matrix = tv.fit_transform(dfTotal['Body'])\n",
    "tv_matrix = tv_matrix.toarray()\n",
    "\n",
    "vocabulario = tv.get_feature_names()\n",
    "pd.DataFrame(np.round(tv_matrix, 2), columns=vocabulario)"
   ]
  },
  {
   "cell_type": "markdown",
   "id": "dfc28cb4-b02e-4b2f-aceb-9710a0f60c18",
   "metadata": {},
   "source": [
    "### Parte 2 – Implementación del Modelo "
   ]
  },
  {
   "cell_type": "markdown",
   "id": "707f3a79-c9a5-4db7-8c8d-5f1d9f45f089",
   "metadata": {},
   "source": [
    "#### Separación de Datos"
   ]
  },
  {
   "cell_type": "code",
   "execution_count": null,
   "id": "70161e09",
   "metadata": {},
   "outputs": [],
   "source": [
    "#Datos para realizar pruebas\n",
    "bog_train, bog_test, bog_target_train, bog_target_test = model_selection.train_test_split(cv_df, dfTotal['Label'], test_size=0.3, random_state=31)"
   ]
  },
  {
   "cell_type": "code",
   "execution_count": null,
   "id": "57162fe1",
   "metadata": {},
   "outputs": [],
   "source": [
    "#tfid_train\n",
    "#tfid_target_test\n",
    "#dfTotal\n",
    "#Usando el matrix podemos...\n",
    "tfid_train, tfid_test, tfid_target_train, tfid_target_test = model_selection.train_test_split(tv_matrix, dfTotal['Label'], test_size=0.3, random_state=31)"
   ]
  },
  {
   "cell_type": "code",
   "execution_count": null,
   "id": "c89eb72b",
   "metadata": {},
   "outputs": [],
   "source": [
    "#Last step\n",
    "ngram_train, ngram_test, ngram_target_train, ngram_target_test = model_selection.train_test_split(bv_matrix, dfTotal['Label'], test_size=0.3, random_state=31)"
   ]
  },
  {
   "cell_type": "markdown",
   "id": "8490e4af-234e-48c8-aced-fcca26309287",
   "metadata": {},
   "source": [
    "#### Implementación"
   ]
  },
  {
   "cell_type": "code",
   "execution_count": null,
   "id": "3154998e",
   "metadata": {},
   "outputs": [],
   "source": [
    "\n",
    "# ************************* N-GRAMS *****************************\n",
    "# ***************************************************************\n",
    "ns_ngram = MultinomialNB()"
   ]
  },
  {
   "cell_type": "code",
   "execution_count": null,
   "id": "9f6a14e9",
   "metadata": {},
   "outputs": [],
   "source": [
    "ns_ngram.fit(ngram_train, ngram_target_train)"
   ]
  },
  {
   "cell_type": "code",
   "execution_count": null,
   "id": "df0b5d92",
   "metadata": {},
   "outputs": [],
   "source": [
    "pred_ngram = ns_ngram.predict(ngram_test)"
   ]
  },
  {
   "cell_type": "markdown",
   "id": "cd82709e",
   "metadata": {},
   "source": [
    "#### Resultados"
   ]
  },
  {
   "cell_type": "code",
   "execution_count": null,
   "id": "f36b116a",
   "metadata": {},
   "outputs": [],
   "source": [
    "print(metrics.accuracy_score(ngram_target_test, pred_ngram))\n",
    "print('Modelo N - grams matriz de confusion ', metrics.confusion_matrix(ngram_target_test, pred_ngram))\n",
    "print(metrics.classification_report(ngram_target_test, pred_ngram, target_names=['0', '1']))"
   ]
  },
  {
   "cell_type": "code",
   "execution_count": null,
   "id": "c8fe6c41",
   "metadata": {},
   "outputs": [],
   "source": [
    "# ***************************************************************\n",
    "# ************************* Bag of words ************************\n",
    "# ***************************************************************"
   ]
  },
  {
   "cell_type": "code",
   "execution_count": null,
   "id": "a8b1ae59",
   "metadata": {},
   "outputs": [],
   "source": []
  },
  {
   "cell_type": "code",
   "execution_count": null,
   "id": "caf194da",
   "metadata": {},
   "outputs": [],
   "source": []
  },
  {
   "cell_type": "code",
   "execution_count": null,
   "id": "69e2701a",
   "metadata": {},
   "outputs": [],
   "source": []
  },
  {
   "cell_type": "markdown",
   "id": "294532c9-2ff5-467b-b71f-af19c14a5e59",
   "metadata": {},
   "source": [
    "#### Conclusión "
   ]
  },
  {
   "cell_type": "markdown",
   "id": "03bf05dd-c141-4a2b-9b70-ffd6423a0726",
   "metadata": {},
   "source": [
    "##### ¿Qué representación numérica produjo el mejor resultado? "
   ]
  },
  {
   "cell_type": "code",
   "execution_count": null,
   "id": "9bfe93c8-654a-4b16-a8f7-f1b43c2aaac0",
   "metadata": {},
   "outputs": [],
   "source": []
  }
 ],
 "metadata": {
  "kernelspec": {
   "display_name": "Python 3",
   "language": "python",
   "name": "python3"
  },
  "language_info": {
   "codemirror_mode": {
    "name": "ipython",
    "version": 3
   },
   "file_extension": ".py",
   "mimetype": "text/x-python",
   "name": "python",
   "nbconvert_exporter": "python",
   "pygments_lexer": "ipython3",
   "version": "3.8.8"
  }
 },
 "nbformat": 4,
 "nbformat_minor": 5
}
